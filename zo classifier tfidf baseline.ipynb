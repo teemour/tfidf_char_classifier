{
 "cells": [
  {
   "cell_type": "code",
   "execution_count": 1,
   "metadata": {},
   "outputs": [],
   "source": [
    "import pandas as pd\n",
    "import numpy as np\n",
    "import matplotlib.pyplot as plt\n",
    "import os\n",
    "\n",
    "np.random.seed(420)\n",
    "\n",
    "%matplotlib inline"
   ]
  },
  {
   "cell_type": "code",
   "execution_count": 3,
   "metadata": {},
   "outputs": [
    {
     "name": "stdout",
     "output_type": "stream",
     "text": [
      "(84373, 2)\n"
     ]
    },
    {
     "data": {
      "text/html": [
       "<div>\n",
       "<style scoped>\n",
       "    .dataframe tbody tr th:only-of-type {\n",
       "        vertical-align: middle;\n",
       "    }\n",
       "\n",
       "    .dataframe tbody tr th {\n",
       "        vertical-align: top;\n",
       "    }\n",
       "\n",
       "    .dataframe thead th {\n",
       "        text-align: right;\n",
       "    }\n",
       "</style>\n",
       "<table border=\"1\" class=\"dataframe\">\n",
       "  <thead>\n",
       "    <tr style=\"text-align: right;\">\n",
       "      <th></th>\n",
       "      <th>Text</th>\n",
       "      <th>Code</th>\n",
       "    </tr>\n",
       "  </thead>\n",
       "  <tbody>\n",
       "    <tr>\n",
       "      <th>0</th>\n",
       "      <td>дельфинарий в зоопарке</td>\n",
       "      <td>0</td>\n",
       "    </tr>\n",
       "    <tr>\n",
       "      <th>1</th>\n",
       "      <td>хзш</td>\n",
       "      <td>1</td>\n",
       "    </tr>\n",
       "    <tr>\n",
       "      <th>2</th>\n",
       "      <td>карта кукуруза</td>\n",
       "      <td>1</td>\n",
       "    </tr>\n",
       "    <tr>\n",
       "      <th>3</th>\n",
       "      <td>аффрин</td>\n",
       "      <td>0</td>\n",
       "    </tr>\n",
       "    <tr>\n",
       "      <th>4</th>\n",
       "      <td>тлртлотлотдотдот</td>\n",
       "      <td>1</td>\n",
       "    </tr>\n",
       "  </tbody>\n",
       "</table>\n",
       "</div>"
      ],
      "text/plain": [
       "                     Text  Code\n",
       "0  дельфинарий в зоопарке     0\n",
       "1                     хзш     1\n",
       "2          карта кукуруза     1\n",
       "3                  аффрин     0\n",
       "4        тлртлотлотдотдот     1"
      ]
     },
     "execution_count": 3,
     "metadata": {},
     "output_type": "execute_result"
    }
   ],
   "source": [
    "df = pd.read_csv(r\"T:\\Разное\\Папка Тимика\\Codifs\\xls parser\\df_processed.csv\", engine=\"python\", encoding=\"utf-8\")\n",
    "df = df.drop(columns=[\"Type\"])\n",
    "print(df.shape)\n",
    "df.head()"
   ]
  },
  {
   "cell_type": "code",
   "execution_count": 4,
   "metadata": {},
   "outputs": [
    {
     "data": {
      "text/html": [
       "\n",
       "    <div class=\"bk-root\">\n",
       "        <a href=\"https://bokeh.pydata.org\" target=\"_blank\" class=\"bk-logo bk-logo-small bk-logo-notebook\"></a>\n",
       "        <span id=\"44630492-2a4a-43f1-bbe0-4e5ea58c385d\">Loading BokehJS ...</span>\n",
       "    </div>"
      ]
     },
     "metadata": {},
     "output_type": "display_data"
    },
    {
     "data": {
      "application/javascript": [
       "\n",
       "(function(root) {\n",
       "  function now() {\n",
       "    return new Date();\n",
       "  }\n",
       "\n",
       "  var force = true;\n",
       "\n",
       "  if (typeof (root._bokeh_onload_callbacks) === \"undefined\" || force === true) {\n",
       "    root._bokeh_onload_callbacks = [];\n",
       "    root._bokeh_is_loading = undefined;\n",
       "  }\n",
       "\n",
       "  var JS_MIME_TYPE = 'application/javascript';\n",
       "  var HTML_MIME_TYPE = 'text/html';\n",
       "  var EXEC_MIME_TYPE = 'application/vnd.bokehjs_exec.v0+json';\n",
       "  var CLASS_NAME = 'output_bokeh rendered_html';\n",
       "\n",
       "  /**\n",
       "   * Render data to the DOM node\n",
       "   */\n",
       "  function render(props, node) {\n",
       "    var script = document.createElement(\"script\");\n",
       "    node.appendChild(script);\n",
       "  }\n",
       "\n",
       "  /**\n",
       "   * Handle when an output is cleared or removed\n",
       "   */\n",
       "  function handleClearOutput(event, handle) {\n",
       "    var cell = handle.cell;\n",
       "\n",
       "    var id = cell.output_area._bokeh_element_id;\n",
       "    var server_id = cell.output_area._bokeh_server_id;\n",
       "    // Clean up Bokeh references\n",
       "    if (id !== undefined) {\n",
       "      Bokeh.index[id].model.document.clear();\n",
       "      delete Bokeh.index[id];\n",
       "    }\n",
       "\n",
       "    if (server_id !== undefined) {\n",
       "      // Clean up Bokeh references\n",
       "      var cmd = \"from bokeh.io.state import curstate; print(curstate().uuid_to_server['\" + server_id + \"'].get_sessions()[0].document.roots[0]._id)\";\n",
       "      cell.notebook.kernel.execute(cmd, {\n",
       "        iopub: {\n",
       "          output: function(msg) {\n",
       "            var element_id = msg.content.text.trim();\n",
       "            Bokeh.index[element_id].model.document.clear();\n",
       "            delete Bokeh.index[element_id];\n",
       "          }\n",
       "        }\n",
       "      });\n",
       "      // Destroy server and session\n",
       "      var cmd = \"import bokeh.io.notebook as ion; ion.destroy_server('\" + server_id + \"')\";\n",
       "      cell.notebook.kernel.execute(cmd);\n",
       "    }\n",
       "  }\n",
       "\n",
       "  /**\n",
       "   * Handle when a new output is added\n",
       "   */\n",
       "  function handleAddOutput(event, handle) {\n",
       "    var output_area = handle.output_area;\n",
       "    var output = handle.output;\n",
       "\n",
       "    // limit handleAddOutput to display_data with EXEC_MIME_TYPE content only\n",
       "    if ((output.output_type != \"display_data\") || (!output.data.hasOwnProperty(EXEC_MIME_TYPE))) {\n",
       "      return\n",
       "    }\n",
       "\n",
       "    var toinsert = output_area.element.find(\".\" + CLASS_NAME.split(' ')[0]);\n",
       "\n",
       "    if (output.metadata[EXEC_MIME_TYPE][\"id\"] !== undefined) {\n",
       "      toinsert[toinsert.length - 1].firstChild.textContent = output.data[JS_MIME_TYPE];\n",
       "      // store reference to embed id on output_area\n",
       "      output_area._bokeh_element_id = output.metadata[EXEC_MIME_TYPE][\"id\"];\n",
       "    }\n",
       "    if (output.metadata[EXEC_MIME_TYPE][\"server_id\"] !== undefined) {\n",
       "      var bk_div = document.createElement(\"div\");\n",
       "      bk_div.innerHTML = output.data[HTML_MIME_TYPE];\n",
       "      var script_attrs = bk_div.children[0].attributes;\n",
       "      for (var i = 0; i < script_attrs.length; i++) {\n",
       "        toinsert[toinsert.length - 1].firstChild.setAttribute(script_attrs[i].name, script_attrs[i].value);\n",
       "      }\n",
       "      // store reference to server id on output_area\n",
       "      output_area._bokeh_server_id = output.metadata[EXEC_MIME_TYPE][\"server_id\"];\n",
       "    }\n",
       "  }\n",
       "\n",
       "  function register_renderer(events, OutputArea) {\n",
       "\n",
       "    function append_mime(data, metadata, element) {\n",
       "      // create a DOM node to render to\n",
       "      var toinsert = this.create_output_subarea(\n",
       "        metadata,\n",
       "        CLASS_NAME,\n",
       "        EXEC_MIME_TYPE\n",
       "      );\n",
       "      this.keyboard_manager.register_events(toinsert);\n",
       "      // Render to node\n",
       "      var props = {data: data, metadata: metadata[EXEC_MIME_TYPE]};\n",
       "      render(props, toinsert[toinsert.length - 1]);\n",
       "      element.append(toinsert);\n",
       "      return toinsert\n",
       "    }\n",
       "\n",
       "    /* Handle when an output is cleared or removed */\n",
       "    events.on('clear_output.CodeCell', handleClearOutput);\n",
       "    events.on('delete.Cell', handleClearOutput);\n",
       "\n",
       "    /* Handle when a new output is added */\n",
       "    events.on('output_added.OutputArea', handleAddOutput);\n",
       "\n",
       "    /**\n",
       "     * Register the mime type and append_mime function with output_area\n",
       "     */\n",
       "    OutputArea.prototype.register_mime_type(EXEC_MIME_TYPE, append_mime, {\n",
       "      /* Is output safe? */\n",
       "      safe: true,\n",
       "      /* Index of renderer in `output_area.display_order` */\n",
       "      index: 0\n",
       "    });\n",
       "  }\n",
       "\n",
       "  // register the mime type if in Jupyter Notebook environment and previously unregistered\n",
       "  if (root.Jupyter !== undefined) {\n",
       "    var events = require('base/js/events');\n",
       "    var OutputArea = require('notebook/js/outputarea').OutputArea;\n",
       "\n",
       "    if (OutputArea.prototype.mime_types().indexOf(EXEC_MIME_TYPE) == -1) {\n",
       "      register_renderer(events, OutputArea);\n",
       "    }\n",
       "  }\n",
       "\n",
       "  \n",
       "  if (typeof (root._bokeh_timeout) === \"undefined\" || force === true) {\n",
       "    root._bokeh_timeout = Date.now() + 5000;\n",
       "    root._bokeh_failed_load = false;\n",
       "  }\n",
       "\n",
       "  var NB_LOAD_WARNING = {'data': {'text/html':\n",
       "     \"<div style='background-color: #fdd'>\\n\"+\n",
       "     \"<p>\\n\"+\n",
       "     \"BokehJS does not appear to have successfully loaded. If loading BokehJS from CDN, this \\n\"+\n",
       "     \"may be due to a slow or bad network connection. Possible fixes:\\n\"+\n",
       "     \"</p>\\n\"+\n",
       "     \"<ul>\\n\"+\n",
       "     \"<li>re-rerun `output_notebook()` to attempt to load from CDN again, or</li>\\n\"+\n",
       "     \"<li>use INLINE resources instead, as so:</li>\\n\"+\n",
       "     \"</ul>\\n\"+\n",
       "     \"<code>\\n\"+\n",
       "     \"from bokeh.resources import INLINE\\n\"+\n",
       "     \"output_notebook(resources=INLINE)\\n\"+\n",
       "     \"</code>\\n\"+\n",
       "     \"</div>\"}};\n",
       "\n",
       "  function display_loaded() {\n",
       "    var el = document.getElementById(\"44630492-2a4a-43f1-bbe0-4e5ea58c385d\");\n",
       "    if (el != null) {\n",
       "      el.textContent = \"BokehJS is loading...\";\n",
       "    }\n",
       "    if (root.Bokeh !== undefined) {\n",
       "      if (el != null) {\n",
       "        el.textContent = \"BokehJS \" + root.Bokeh.version + \" successfully loaded.\";\n",
       "      }\n",
       "    } else if (Date.now() < root._bokeh_timeout) {\n",
       "      setTimeout(display_loaded, 100)\n",
       "    }\n",
       "  }\n",
       "\n",
       "\n",
       "  function run_callbacks() {\n",
       "    try {\n",
       "      root._bokeh_onload_callbacks.forEach(function(callback) { callback() });\n",
       "    }\n",
       "    finally {\n",
       "      delete root._bokeh_onload_callbacks\n",
       "    }\n",
       "    console.info(\"Bokeh: all callbacks have finished\");\n",
       "  }\n",
       "\n",
       "  function load_libs(js_urls, callback) {\n",
       "    root._bokeh_onload_callbacks.push(callback);\n",
       "    if (root._bokeh_is_loading > 0) {\n",
       "      console.log(\"Bokeh: BokehJS is being loaded, scheduling callback at\", now());\n",
       "      return null;\n",
       "    }\n",
       "    if (js_urls == null || js_urls.length === 0) {\n",
       "      run_callbacks();\n",
       "      return null;\n",
       "    }\n",
       "    console.log(\"Bokeh: BokehJS not loaded, scheduling load and callback at\", now());\n",
       "    root._bokeh_is_loading = js_urls.length;\n",
       "    for (var i = 0; i < js_urls.length; i++) {\n",
       "      var url = js_urls[i];\n",
       "      var s = document.createElement('script');\n",
       "      s.src = url;\n",
       "      s.async = false;\n",
       "      s.onreadystatechange = s.onload = function() {\n",
       "        root._bokeh_is_loading--;\n",
       "        if (root._bokeh_is_loading === 0) {\n",
       "          console.log(\"Bokeh: all BokehJS libraries loaded\");\n",
       "          run_callbacks()\n",
       "        }\n",
       "      };\n",
       "      s.onerror = function() {\n",
       "        console.warn(\"failed to load library \" + url);\n",
       "      };\n",
       "      console.log(\"Bokeh: injecting script tag for BokehJS library: \", url);\n",
       "      document.getElementsByTagName(\"head\")[0].appendChild(s);\n",
       "    }\n",
       "  };var element = document.getElementById(\"44630492-2a4a-43f1-bbe0-4e5ea58c385d\");\n",
       "  if (element == null) {\n",
       "    console.log(\"Bokeh: ERROR: autoload.js configured with elementid '44630492-2a4a-43f1-bbe0-4e5ea58c385d' but no matching script tag was found. \")\n",
       "    return false;\n",
       "  }\n",
       "\n",
       "  var js_urls = [\"https://cdn.pydata.org/bokeh/release/bokeh-0.12.16.min.js\", \"https://cdn.pydata.org/bokeh/release/bokeh-widgets-0.12.16.min.js\", \"https://cdn.pydata.org/bokeh/release/bokeh-tables-0.12.16.min.js\", \"https://cdn.pydata.org/bokeh/release/bokeh-gl-0.12.16.min.js\"];\n",
       "\n",
       "  var inline_js = [\n",
       "    function(Bokeh) {\n",
       "      Bokeh.set_log_level(\"info\");\n",
       "    },\n",
       "    \n",
       "    function(Bokeh) {\n",
       "      \n",
       "    },\n",
       "    function(Bokeh) {\n",
       "      console.log(\"Bokeh: injecting CSS: https://cdn.pydata.org/bokeh/release/bokeh-0.12.16.min.css\");\n",
       "      Bokeh.embed.inject_css(\"https://cdn.pydata.org/bokeh/release/bokeh-0.12.16.min.css\");\n",
       "      console.log(\"Bokeh: injecting CSS: https://cdn.pydata.org/bokeh/release/bokeh-widgets-0.12.16.min.css\");\n",
       "      Bokeh.embed.inject_css(\"https://cdn.pydata.org/bokeh/release/bokeh-widgets-0.12.16.min.css\");\n",
       "      console.log(\"Bokeh: injecting CSS: https://cdn.pydata.org/bokeh/release/bokeh-tables-0.12.16.min.css\");\n",
       "      Bokeh.embed.inject_css(\"https://cdn.pydata.org/bokeh/release/bokeh-tables-0.12.16.min.css\");\n",
       "    }\n",
       "  ];\n",
       "\n",
       "  function run_inline_js() {\n",
       "    \n",
       "    if ((root.Bokeh !== undefined) || (force === true)) {\n",
       "      for (var i = 0; i < inline_js.length; i++) {\n",
       "        inline_js[i].call(root, root.Bokeh);\n",
       "      }if (force === true) {\n",
       "        display_loaded();\n",
       "      }} else if (Date.now() < root._bokeh_timeout) {\n",
       "      setTimeout(run_inline_js, 100);\n",
       "    } else if (!root._bokeh_failed_load) {\n",
       "      console.log(\"Bokeh: BokehJS failed to load within specified timeout.\");\n",
       "      root._bokeh_failed_load = true;\n",
       "    } else if (force !== true) {\n",
       "      var cell = $(document.getElementById(\"44630492-2a4a-43f1-bbe0-4e5ea58c385d\")).parents('.cell').data().cell;\n",
       "      cell.output_area.append_execute_result(NB_LOAD_WARNING)\n",
       "    }\n",
       "\n",
       "  }\n",
       "\n",
       "  if (root._bokeh_is_loading === 0) {\n",
       "    console.log(\"Bokeh: BokehJS loaded, going straight to plotting\");\n",
       "    run_inline_js();\n",
       "  } else {\n",
       "    load_libs(js_urls, function() {\n",
       "      console.log(\"Bokeh: BokehJS plotting callback run at\", now());\n",
       "      run_inline_js();\n",
       "    });\n",
       "  }\n",
       "}(window));"
      ],
      "application/vnd.bokehjs_load.v0+json": "\n(function(root) {\n  function now() {\n    return new Date();\n  }\n\n  var force = true;\n\n  if (typeof (root._bokeh_onload_callbacks) === \"undefined\" || force === true) {\n    root._bokeh_onload_callbacks = [];\n    root._bokeh_is_loading = undefined;\n  }\n\n  \n\n  \n  if (typeof (root._bokeh_timeout) === \"undefined\" || force === true) {\n    root._bokeh_timeout = Date.now() + 5000;\n    root._bokeh_failed_load = false;\n  }\n\n  var NB_LOAD_WARNING = {'data': {'text/html':\n     \"<div style='background-color: #fdd'>\\n\"+\n     \"<p>\\n\"+\n     \"BokehJS does not appear to have successfully loaded. If loading BokehJS from CDN, this \\n\"+\n     \"may be due to a slow or bad network connection. Possible fixes:\\n\"+\n     \"</p>\\n\"+\n     \"<ul>\\n\"+\n     \"<li>re-rerun `output_notebook()` to attempt to load from CDN again, or</li>\\n\"+\n     \"<li>use INLINE resources instead, as so:</li>\\n\"+\n     \"</ul>\\n\"+\n     \"<code>\\n\"+\n     \"from bokeh.resources import INLINE\\n\"+\n     \"output_notebook(resources=INLINE)\\n\"+\n     \"</code>\\n\"+\n     \"</div>\"}};\n\n  function display_loaded() {\n    var el = document.getElementById(\"44630492-2a4a-43f1-bbe0-4e5ea58c385d\");\n    if (el != null) {\n      el.textContent = \"BokehJS is loading...\";\n    }\n    if (root.Bokeh !== undefined) {\n      if (el != null) {\n        el.textContent = \"BokehJS \" + root.Bokeh.version + \" successfully loaded.\";\n      }\n    } else if (Date.now() < root._bokeh_timeout) {\n      setTimeout(display_loaded, 100)\n    }\n  }\n\n\n  function run_callbacks() {\n    try {\n      root._bokeh_onload_callbacks.forEach(function(callback) { callback() });\n    }\n    finally {\n      delete root._bokeh_onload_callbacks\n    }\n    console.info(\"Bokeh: all callbacks have finished\");\n  }\n\n  function load_libs(js_urls, callback) {\n    root._bokeh_onload_callbacks.push(callback);\n    if (root._bokeh_is_loading > 0) {\n      console.log(\"Bokeh: BokehJS is being loaded, scheduling callback at\", now());\n      return null;\n    }\n    if (js_urls == null || js_urls.length === 0) {\n      run_callbacks();\n      return null;\n    }\n    console.log(\"Bokeh: BokehJS not loaded, scheduling load and callback at\", now());\n    root._bokeh_is_loading = js_urls.length;\n    for (var i = 0; i < js_urls.length; i++) {\n      var url = js_urls[i];\n      var s = document.createElement('script');\n      s.src = url;\n      s.async = false;\n      s.onreadystatechange = s.onload = function() {\n        root._bokeh_is_loading--;\n        if (root._bokeh_is_loading === 0) {\n          console.log(\"Bokeh: all BokehJS libraries loaded\");\n          run_callbacks()\n        }\n      };\n      s.onerror = function() {\n        console.warn(\"failed to load library \" + url);\n      };\n      console.log(\"Bokeh: injecting script tag for BokehJS library: \", url);\n      document.getElementsByTagName(\"head\")[0].appendChild(s);\n    }\n  };var element = document.getElementById(\"44630492-2a4a-43f1-bbe0-4e5ea58c385d\");\n  if (element == null) {\n    console.log(\"Bokeh: ERROR: autoload.js configured with elementid '44630492-2a4a-43f1-bbe0-4e5ea58c385d' but no matching script tag was found. \")\n    return false;\n  }\n\n  var js_urls = [\"https://cdn.pydata.org/bokeh/release/bokeh-0.12.16.min.js\", \"https://cdn.pydata.org/bokeh/release/bokeh-widgets-0.12.16.min.js\", \"https://cdn.pydata.org/bokeh/release/bokeh-tables-0.12.16.min.js\", \"https://cdn.pydata.org/bokeh/release/bokeh-gl-0.12.16.min.js\"];\n\n  var inline_js = [\n    function(Bokeh) {\n      Bokeh.set_log_level(\"info\");\n    },\n    \n    function(Bokeh) {\n      \n    },\n    function(Bokeh) {\n      console.log(\"Bokeh: injecting CSS: https://cdn.pydata.org/bokeh/release/bokeh-0.12.16.min.css\");\n      Bokeh.embed.inject_css(\"https://cdn.pydata.org/bokeh/release/bokeh-0.12.16.min.css\");\n      console.log(\"Bokeh: injecting CSS: https://cdn.pydata.org/bokeh/release/bokeh-widgets-0.12.16.min.css\");\n      Bokeh.embed.inject_css(\"https://cdn.pydata.org/bokeh/release/bokeh-widgets-0.12.16.min.css\");\n      console.log(\"Bokeh: injecting CSS: https://cdn.pydata.org/bokeh/release/bokeh-tables-0.12.16.min.css\");\n      Bokeh.embed.inject_css(\"https://cdn.pydata.org/bokeh/release/bokeh-tables-0.12.16.min.css\");\n    }\n  ];\n\n  function run_inline_js() {\n    \n    if ((root.Bokeh !== undefined) || (force === true)) {\n      for (var i = 0; i < inline_js.length; i++) {\n        inline_js[i].call(root, root.Bokeh);\n      }if (force === true) {\n        display_loaded();\n      }} else if (Date.now() < root._bokeh_timeout) {\n      setTimeout(run_inline_js, 100);\n    } else if (!root._bokeh_failed_load) {\n      console.log(\"Bokeh: BokehJS failed to load within specified timeout.\");\n      root._bokeh_failed_load = true;\n    } else if (force !== true) {\n      var cell = $(document.getElementById(\"44630492-2a4a-43f1-bbe0-4e5ea58c385d\")).parents('.cell').data().cell;\n      cell.output_area.append_execute_result(NB_LOAD_WARNING)\n    }\n\n  }\n\n  if (root._bokeh_is_loading === 0) {\n    console.log(\"Bokeh: BokehJS loaded, going straight to plotting\");\n    run_inline_js();\n  } else {\n    load_libs(js_urls, function() {\n      console.log(\"Bokeh: BokehJS plotting callback run at\", now());\n      run_inline_js();\n    });\n  }\n}(window));"
     },
     "metadata": {},
     "output_type": "display_data"
    },
    {
     "data": {
      "text/html": [
       "\n",
       "<div class=\"bk-root\">\n",
       "    <div class=\"bk-plotdiv\" id=\"2a438c95-96ce-418b-971f-db3537fd9fe7\"></div>\n",
       "</div>"
      ]
     },
     "metadata": {},
     "output_type": "display_data"
    },
    {
     "data": {
      "application/javascript": [
       "(function(root) {\n",
       "  function embed_document(root) {\n",
       "    \n",
       "  var docs_json = {\"c9019bcc-2bb7-4aa1-b5d7-17d52479db3b\":{\"roots\":{\"references\":[{\"attributes\":{\"data_source\":{\"id\":\"6d52799e-b7ba-4b10-8bb4-8886a26d7e85\",\"type\":\"ColumnDataSource\"},\"glyph\":{\"id\":\"4a3262ec-b060-42e7-88e2-53e15ac9bec3\",\"type\":\"Quad\"},\"hover_glyph\":null,\"muted_glyph\":null,\"nonselection_glyph\":{\"id\":\"09463456-3c91-4155-b7d8-ecd2b4d7aef8\",\"type\":\"Quad\"},\"selection_glyph\":null,\"view\":{\"id\":\"eea6b1b7-ca39-47ae-ba44-a513a83a79d1\",\"type\":\"CDSView\"}},\"id\":\"57679b70-9123-42c1-ad11-ebb77511ef90\",\"type\":\"GlyphRenderer\"},{\"attributes\":{\"dimension\":1,\"grid_line_color\":{\"value\":\"white\"},\"plot\":{\"id\":\"0fdf7251-021c-4f2e-8e17-e9e07cd559f5\",\"subtype\":\"Figure\",\"type\":\"Plot\"},\"ticker\":{\"id\":\"2ddecad0-148b-4743-99a1-3420c6809b81\",\"type\":\"BasicTicker\"}},\"id\":\"8da0646c-d18d-4b29-a4e7-665b698d11aa\",\"type\":\"Grid\"},{\"attributes\":{\"background_fill_color\":{\"value\":\"#fafafa\"},\"below\":[{\"id\":\"fee2e05b-0731-4c33-9b07-eb5141bec873\",\"type\":\"LinearAxis\"}],\"left\":[{\"id\":\"888343b1-1183-4bcd-8733-0a5edc062382\",\"type\":\"LinearAxis\"}],\"renderers\":[{\"id\":\"fee2e05b-0731-4c33-9b07-eb5141bec873\",\"type\":\"LinearAxis\"},{\"id\":\"e07cbeea-aecf-4b89-9863-68bb5d9ccd79\",\"type\":\"Grid\"},{\"id\":\"888343b1-1183-4bcd-8733-0a5edc062382\",\"type\":\"LinearAxis\"},{\"id\":\"8da0646c-d18d-4b29-a4e7-665b698d11aa\",\"type\":\"Grid\"},{\"id\":\"57679b70-9123-42c1-ad11-ebb77511ef90\",\"type\":\"GlyphRenderer\"}],\"title\":{\"id\":\"0d1c46cd-8820-4e68-bee6-0d6a0dcac2c7\",\"type\":\"Title\"},\"toolbar\":{\"id\":\"cbbdd474-1179-4e5b-9e59-72e74b02f84a\",\"type\":\"Toolbar\"},\"x_range\":{\"id\":\"b6cb96e8-2d83-46e2-a053-d54ae24619a2\",\"type\":\"DataRange1d\"},\"x_scale\":{\"id\":\"f85d3c35-5035-49ea-85d1-79562a5609d0\",\"type\":\"LinearScale\"},\"y_range\":{\"id\":\"f9845c71-c237-4e29-b134-fe176632698f\",\"type\":\"DataRange1d\"},\"y_scale\":{\"id\":\"64c7ff75-17b9-47f6-a508-800ce4536526\",\"type\":\"LinearScale\"}},\"id\":\"0fdf7251-021c-4f2e-8e17-e9e07cd559f5\",\"subtype\":\"Figure\",\"type\":\"Plot\"},{\"attributes\":{\"callback\":null,\"start\":0},\"id\":\"f9845c71-c237-4e29-b134-fe176632698f\",\"type\":\"DataRange1d\"},{\"attributes\":{\"axis_label\":\"Pr(x)\",\"formatter\":{\"id\":\"f1878538-dc38-4a89-8f7b-4f5eb5c5764b\",\"type\":\"BasicTickFormatter\"},\"plot\":{\"id\":\"0fdf7251-021c-4f2e-8e17-e9e07cd559f5\",\"subtype\":\"Figure\",\"type\":\"Plot\"},\"ticker\":{\"id\":\"2ddecad0-148b-4743-99a1-3420c6809b81\",\"type\":\"BasicTicker\"}},\"id\":\"888343b1-1183-4bcd-8733-0a5edc062382\",\"type\":\"LinearAxis\"},{\"attributes\":{},\"id\":\"64c7ff75-17b9-47f6-a508-800ce4536526\",\"type\":\"LinearScale\"},{\"attributes\":{\"axis_label\":\"x\",\"formatter\":{\"id\":\"26259b43-5c8d-4212-9906-cc010b1fc5a3\",\"type\":\"BasicTickFormatter\"},\"plot\":{\"id\":\"0fdf7251-021c-4f2e-8e17-e9e07cd559f5\",\"subtype\":\"Figure\",\"type\":\"Plot\"},\"ticker\":{\"id\":\"faf2f206-34c2-4d74-9f7b-ed9edc007eb4\",\"type\":\"BasicTicker\"}},\"id\":\"fee2e05b-0731-4c33-9b07-eb5141bec873\",\"type\":\"LinearAxis\"},{\"attributes\":{},\"id\":\"faf2f206-34c2-4d74-9f7b-ed9edc007eb4\",\"type\":\"BasicTicker\"},{\"attributes\":{\"grid_line_color\":{\"value\":\"white\"},\"plot\":{\"id\":\"0fdf7251-021c-4f2e-8e17-e9e07cd559f5\",\"subtype\":\"Figure\",\"type\":\"Plot\"},\"ticker\":{\"id\":\"faf2f206-34c2-4d74-9f7b-ed9edc007eb4\",\"type\":\"BasicTicker\"}},\"id\":\"e07cbeea-aecf-4b89-9863-68bb5d9ccd79\",\"type\":\"Grid\"},{\"attributes\":{\"bottom\":{\"value\":0},\"fill_alpha\":{\"value\":0.5},\"fill_color\":{\"value\":\"navy\"},\"left\":{\"field\":\"left\"},\"line_alpha\":{\"value\":0.5},\"line_color\":{\"value\":\"white\"},\"right\":{\"field\":\"right\"},\"top\":{\"field\":\"top\"}},\"id\":\"4a3262ec-b060-42e7-88e2-53e15ac9bec3\",\"type\":\"Quad\"},{\"attributes\":{\"plot\":null,\"text\":\"Length distribution\"},\"id\":\"0d1c46cd-8820-4e68-bee6-0d6a0dcac2c7\",\"type\":\"Title\"},{\"attributes\":{},\"id\":\"a09e03ff-d852-410e-9341-0733898b9d38\",\"type\":\"Selection\"},{\"attributes\":{\"callback\":null,\"data\":{\"left\":{\"__ndarray__\":\"AAAAAAAA8D89CtejcD0OQD0K16NwPRpArkfhehSuIkA9CtejcD0oQMzMzMzMzC1ArkfhehSuMUD1KFyPwnU0QD0K16NwPTdAhetRuB4FOkDMzMzMzMw8QBSuR+F6lD9ArkfhehQuQUBSuB6F65FCQPUoXI/C9UNAmZmZmZlZRUA9CtejcL1GQOF6FK5HIUhAhetRuB6FSUAoXI/C9ehKQMzMzMzMTExAcD0K16OwTUAUrkfhehRPQFyPwvUoPFBArkfhehTuUEAAAAAAAKBRQFK4HoXrUVJAo3A9CtcDU0D1KFyPwrVTQEfhehSuZ1RAmZmZmZkZVUDrUbgehctVQD0K16NwfVZAj8L1KFwvV0DhehSuR+FXQDMzMzMzk1hAhetRuB5FWUDXo3A9CvdZQChcj8L1qFpAehSuR+FaW0DMzMzMzAxcQB6F61G4vlxAcD0K16NwXUDC9ShcjyJeQBSuR+F61F5AZmZmZmaGX0Bcj8L1KBxgQIXrUbgedWBArkfhehTOYEDXo3A9CidhQA==\",\"dtype\":\"float64\",\"shape\":[50]},\"right\":{\"__ndarray__\":\"PQrXo3A9DkA9CtejcD0aQK5H4XoUriJAPQrXo3A9KEDMzMzMzMwtQK5H4XoUrjFA9Shcj8J1NEA9CtejcD03QIXrUbgeBTpAzMzMzMzMPEAUrkfhepQ/QK5H4XoULkFAUrgeheuRQkD1KFyPwvVDQJmZmZmZWUVAPQrXo3C9RkDhehSuRyFIQIXrUbgehUlAKFyPwvXoSkDMzMzMzExMQHA9CtejsE1AFK5H4XoUT0Bcj8L1KDxQQK5H4XoU7lBAAAAAAACgUUBSuB6F61FSQKNwPQrXA1NA9Shcj8K1U0BH4XoUrmdUQJmZmZmZGVVA61G4HoXLVUA9CtejcH1WQI/C9ShcL1dA4XoUrkfhV0AzMzMzM5NYQIXrUbgeRVlA16NwPQr3WUAoXI/C9ahaQHoUrkfhWltAzMzMzMwMXEAehetRuL5cQHA9CtejcF1AwvUoXI8iXkAUrkfhetReQGZmZmZmhl9AXI/C9SgcYECF61G4HnVgQK5H4XoUzmBA16NwPQonYUAAAAAAAIBhQA==\",\"dtype\":\"float64\",\"shape\":[50]},\"top\":{\"__ndarray__\":\"0K1ktt9mkD8eCmVVJcKuP9Ixyoh6E7I/UFddG+FXpz9lVf4wTfyVP1h1y0JTjZo/hPzpLgTTlD8wsroISb+PP9FKIKxCVIs/EVf4IIZPfz8LPThIUeiDP/XqLfd1koA/DoaKAkUkej/iRJ7yKzlvP56QaIdPzHQ/3fs1OcPfbj9jnlDrQDhsP2vN4sz/DGc/7InTVifqWT9WpOijzHBiP8Qu+2/vXF8/HdvgL2aWWD/Lj2sPsyJQP0dfsz/Rv1c/VqToo8xwUj/IuUyxDUtPP0Db4C9mlkg/q6yNw6LDQD9HX7M/0b9HP8jrKm8SPEU/uo0GrJSSPz+dZ1hfpxI2P9blkraGAz8/cuOFTzzpNj/yb/1+fWU0P3L8dK6+4TE/jlQBubBSIT/fBBrOlDQwP1ak6KPMcDI/Vov5REp4Jz+rrI3DosMgP6uTnmQgyyU/AJxDhPYdJD/HBBrOlDQgPzoaftvVDh0/q3qvBZ7SGj/kKsgagrQZP3LjhU886SY/5CrIGoK0KT+POxJaLlpWPw==\",\"dtype\":\"float64\",\"shape\":[50]}},\"selected\":{\"id\":\"a09e03ff-d852-410e-9341-0733898b9d38\",\"type\":\"Selection\"},\"selection_policy\":{\"id\":\"5a11eaa9-eed9-455d-880f-a2cfa6b6c95b\",\"type\":\"UnionRenderers\"}},\"id\":\"6d52799e-b7ba-4b10-8bb4-8886a26d7e85\",\"type\":\"ColumnDataSource\"},{\"attributes\":{},\"id\":\"f1878538-dc38-4a89-8f7b-4f5eb5c5764b\",\"type\":\"BasicTickFormatter\"},{\"attributes\":{},\"id\":\"26259b43-5c8d-4212-9906-cc010b1fc5a3\",\"type\":\"BasicTickFormatter\"},{\"attributes\":{\"callback\":null},\"id\":\"b6cb96e8-2d83-46e2-a053-d54ae24619a2\",\"type\":\"DataRange1d\"},{\"attributes\":{\"source\":{\"id\":\"6d52799e-b7ba-4b10-8bb4-8886a26d7e85\",\"type\":\"ColumnDataSource\"}},\"id\":\"eea6b1b7-ca39-47ae-ba44-a513a83a79d1\",\"type\":\"CDSView\"},{\"attributes\":{\"bottom\":{\"value\":0},\"fill_alpha\":{\"value\":0.1},\"fill_color\":{\"value\":\"#1f77b4\"},\"left\":{\"field\":\"left\"},\"line_alpha\":{\"value\":0.1},\"line_color\":{\"value\":\"#1f77b4\"},\"right\":{\"field\":\"right\"},\"top\":{\"field\":\"top\"}},\"id\":\"09463456-3c91-4155-b7d8-ecd2b4d7aef8\",\"type\":\"Quad\"},{\"attributes\":{},\"id\":\"f85d3c35-5035-49ea-85d1-79562a5609d0\",\"type\":\"LinearScale\"},{\"attributes\":{},\"id\":\"2ddecad0-148b-4743-99a1-3420c6809b81\",\"type\":\"BasicTicker\"},{\"attributes\":{},\"id\":\"5a11eaa9-eed9-455d-880f-a2cfa6b6c95b\",\"type\":\"UnionRenderers\"},{\"attributes\":{\"active_drag\":\"auto\",\"active_inspect\":\"auto\",\"active_scroll\":\"auto\",\"active_tap\":\"auto\"},\"id\":\"cbbdd474-1179-4e5b-9e59-72e74b02f84a\",\"type\":\"Toolbar\"}],\"root_ids\":[\"0fdf7251-021c-4f2e-8e17-e9e07cd559f5\"]},\"title\":\"Bokeh Application\",\"version\":\"0.12.16\"}};\n",
       "  var render_items = [{\"docid\":\"c9019bcc-2bb7-4aa1-b5d7-17d52479db3b\",\"elementid\":\"2a438c95-96ce-418b-971f-db3537fd9fe7\",\"modelid\":\"0fdf7251-021c-4f2e-8e17-e9e07cd559f5\"}];\n",
       "  root.Bokeh.embed.embed_items_notebook(docs_json, render_items);\n",
       "\n",
       "  }\n",
       "  if (root.Bokeh !== undefined) {\n",
       "    embed_document(root);\n",
       "  } else {\n",
       "    var attempts = 0;\n",
       "    var timer = setInterval(function(root) {\n",
       "      if (root.Bokeh !== undefined) {\n",
       "        embed_document(root);\n",
       "        clearInterval(timer);\n",
       "      }\n",
       "      attempts++;\n",
       "      if (attempts > 100) {\n",
       "        console.log(\"Bokeh: ERROR: Unable to run BokehJS code because BokehJS library is missing\")\n",
       "        clearInterval(timer);\n",
       "      }\n",
       "    }, 10, root)\n",
       "  }\n",
       "})(window);"
      ],
      "application/vnd.bokehjs_exec.v0+json": ""
     },
     "metadata": {
      "application/vnd.bokehjs_exec.v0+json": {
       "id": "0fdf7251-021c-4f2e-8e17-e9e07cd559f5"
      }
     },
     "output_type": "display_data"
    }
   ],
   "source": [
    "from bokeh.layouts import gridplot\n",
    "from bokeh.plotting import figure, show, output_file\n",
    "from bokeh.io import output_notebook\n",
    "\n",
    "output_notebook()\n",
    "\n",
    "\n",
    "def make_plot(title, hist, edges, x):\n",
    "    p = figure(title=title, tools='', background_fill_color=\"#fafafa\")\n",
    "    p.quad(top=hist, bottom=0, left=edges[:-1], right=edges[1:],\n",
    "           fill_color=\"navy\", line_color=\"white\", alpha=0.5)\n",
    "\n",
    "    p.y_range.start = 0\n",
    "    p.legend.location = \"center_right\"\n",
    "    p.legend.background_fill_color = \"#fefefe\"\n",
    "    p.xaxis.axis_label = 'x'\n",
    "    p.yaxis.axis_label = 'Pr(x)'\n",
    "    p.grid.grid_line_color=\"white\"\n",
    "    return p\n",
    "\n",
    "lens = df.Text.str.len()\n",
    "hist, edges = np.histogram(lens, density=True, bins=50)\n",
    "x = np.arange(0, lens.max(), 5)\n",
    "\n",
    "show(make_plot(\"Length distribution\", hist, edges, x))"
   ]
  },
  {
   "cell_type": "code",
   "execution_count": 45,
   "metadata": {},
   "outputs": [
    {
     "data": {
      "text/plain": [
       "12.0"
      ]
     },
     "execution_count": 45,
     "metadata": {},
     "output_type": "execute_result"
    }
   ],
   "source": [
    "lens.median()"
   ]
  },
  {
   "cell_type": "code",
   "execution_count": 83,
   "metadata": {},
   "outputs": [
    {
     "data": {
      "text/plain": [
       "count    84373.000000\n",
       "mean        18.217084\n",
       "std         18.889894\n",
       "min          1.000000\n",
       "25%          7.000000\n",
       "50%         12.000000\n",
       "75%         22.000000\n",
       "max        140.000000\n",
       "Name: Text, dtype: float64"
      ]
     },
     "execution_count": 83,
     "metadata": {},
     "output_type": "execute_result"
    }
   ],
   "source": [
    "lens.describe()"
   ]
  },
  {
   "cell_type": "code",
   "execution_count": 155,
   "metadata": {},
   "outputs": [],
   "source": [
    "from keras.preprocessing.text import Tokenizer\n",
    "from keras.preprocessing.sequence import pad_sequences\n",
    "\n",
    "def text2seq(str_len, df):\n",
    "    tk = Tokenizer(num_words=None, char_level=True, oov_token='UNK')\n",
    "    tk.fit_on_texts(df.Text)\n",
    "\n",
    "    alphabet=\"0123456789йцукенгшщзхъфывапролджэячсмитьбю !,.?\"\n",
    "    if len(alphabet) != len(set(\"\".join(df.Text))):\n",
    "        print(\"Alphabets are not a match!\")\n",
    "\n",
    "    char_dict = {}\n",
    "    for i, char in enumerate(alphabet):\n",
    "        char_dict[char] = i + 1\n",
    "    vocab_size = len(char_dict)\n",
    "    \n",
    "    tk.word_index = char_dict.copy()\n",
    "    tk.word_index[tk.oov_token] = max(char_dict.values()) + 1\n",
    "\n",
    "    X = tk.texts_to_sequences(df.Text)\n",
    "    X = pad_sequences(X, maxlen=str_len, padding='post', truncating='post')\n",
    "\n",
    "    return X\n",
    "\n",
    "str_len = 50\n",
    "X = text2seq(str_len, df)\n",
    "y = np.array(df.Code)"
   ]
  },
  {
   "cell_type": "code",
   "execution_count": 186,
   "metadata": {},
   "outputs": [
    {
     "name": "stdout",
     "output_type": "stream",
     "text": [
      "_________________________________________________________________\n",
      "Layer (type)                 Output Shape              Param #   \n",
      "=================================================================\n",
      "embedding_6 (Embedding)      (None, 50, 47)            2256      \n",
      "_________________________________________________________________\n",
      "flatten_6 (Flatten)          (None, 2350)              0         \n",
      "_________________________________________________________________\n",
      "dense_8 (Dense)              (None, 1)                 2351      \n",
      "=================================================================\n",
      "Total params: 4,607\n",
      "Trainable params: 4,607\n",
      "Non-trainable params: 0\n",
      "_________________________________________________________________\n",
      "None\n"
     ]
    }
   ],
   "source": [
    "from keras.models import Sequential\n",
    "from keras.layers import Dense\n",
    "from keras.layers import Flatten\n",
    "from keras.layers import Input\n",
    "from keras.layers.embeddings import Embedding\n",
    "\n",
    "\n",
    "def build_model(embedding_dim, str_len):\n",
    "    vocab_size = len(alphabet) + 1\n",
    "    model = Sequential()\n",
    "    model.add(Embedding(vocab_size, embedding_dim, input_length=str_len))\n",
    "    model.add(Flatten())\n",
    "    model.add(Dense(1, activation=\"sigmoid\"))\n",
    "    return model\n",
    "\n",
    "model = build_model(len(alphabet), str_len)\n",
    "model.compile(optimizer='adam', loss='binary_crossentropy', metrics=['acc'])\n",
    "print(model.summary())"
   ]
  },
  {
   "cell_type": "code",
   "execution_count": 160,
   "metadata": {},
   "outputs": [
    {
     "data": {
      "text/plain": [
       "(74373, 50)"
      ]
     },
     "execution_count": 160,
     "metadata": {},
     "output_type": "execute_result"
    }
   ],
   "source": [
    "from sklearn.model_selection import train_test_split\n",
    "\n",
    "\n",
    "X_train, X_test, y_train, y_test = train_test_split(\n",
    "    X, y, test_size=10000, random_state=420, stratify=y)\n",
    "\n",
    "X_train.shape"
   ]
  },
  {
   "cell_type": "code",
   "execution_count": 177,
   "metadata": {},
   "outputs": [
    {
     "name": "stdout",
     "output_type": "stream",
     "text": [
      "Epoch 1/10\n",
      "74373/74373 [==============================] - 1s 18us/step - loss: 0.6736 - acc: 0.5935\n",
      "Epoch 2/10\n",
      "74373/74373 [==============================] - 1s 18us/step - loss: 0.6725 - acc: 0.5978\n",
      "Epoch 3/10\n",
      "74373/74373 [==============================] - 1s 18us/step - loss: 0.6727 - acc: 0.5966\n",
      "Epoch 4/10\n",
      "74373/74373 [==============================] - 1s 18us/step - loss: 0.6726 - acc: 0.5956\n",
      "Epoch 5/10\n",
      "74373/74373 [==============================] - 1s 18us/step - loss: 0.6720 - acc: 0.5993\n",
      "Epoch 6/10\n",
      "74373/74373 [==============================] - 1s 18us/step - loss: 0.6732 - acc: 0.5962\n",
      "Epoch 7/10\n",
      "74373/74373 [==============================] - 1s 18us/step - loss: 0.6732 - acc: 0.5947\n",
      "Epoch 8/10\n",
      "74373/74373 [==============================] - 1s 18us/step - loss: 0.6728 - acc: 0.5952\n",
      "Epoch 9/10\n",
      "74373/74373 [==============================] - 1s 18us/step - loss: 0.6741 - acc: 0.5957\n",
      "Epoch 10/10\n",
      "74373/74373 [==============================] - 1s 18us/step - loss: 0.6737 - acc: 0.5949\n",
      "10000/10000 [==============================] - 0s 8us/step\n",
      "0.6144\n"
     ]
    }
   ],
   "source": [
    "model.fit(X_train, y_train, epochs=10, verbose=1)\n",
    "loss, accuracy = model.evaluate(X_test, y_test, verbose=1)\n",
    "print(accuracy)"
   ]
  },
  {
   "cell_type": "code",
   "execution_count": 170,
   "metadata": {},
   "outputs": [
    {
     "data": {
      "text/plain": [
       "0.51332873"
      ]
     },
     "execution_count": 170,
     "metadata": {},
     "output_type": "execute_result"
    }
   ],
   "source": [
    "y_res = model.predict(X_test)\n",
    "y_res.mean()"
   ]
  },
  {
   "cell_type": "code",
   "execution_count": 165,
   "metadata": {},
   "outputs": [
    {
     "name": "stdout",
     "output_type": "stream",
     "text": [
      "84373/84373 [==============================] - 1s 10us/step\n"
     ]
    }
   ],
   "source": [
    "loss, accuracy = model.evaluate(X, y, verbose=1)"
   ]
  },
  {
   "cell_type": "code",
   "execution_count": 183,
   "metadata": {},
   "outputs": [
    {
     "name": "stderr",
     "output_type": "stream",
     "text": [
      "C:\\Users\\khasanov\\AppData\\Local\\conda\\conda\\envs\\my_root\\lib\\site-packages\\sklearn\\feature_extraction\\text.py:1089: FutureWarning: Conversion of the second argument of issubdtype from `float` to `np.floating` is deprecated. In future, it will be treated as `np.float64 == np.dtype(float).type`.\n",
      "  if hasattr(X, 'dtype') and np.issubdtype(X.dtype, np.float):\n"
     ]
    },
    {
     "data": {
      "text/plain": [
       "<84373x30000 sparse matrix of type '<class 'numpy.float64'>'\n",
       "\twith 5482055 stored elements in Compressed Sparse Row format>"
      ]
     },
     "execution_count": 183,
     "metadata": {},
     "output_type": "execute_result"
    }
   ],
   "source": [
    "from sklearn.feature_extraction.text import TfidfVectorizer\n",
    "\n",
    "char_vectorizer = TfidfVectorizer(\n",
    "    sublinear_tf=True,\n",
    "    analyzer='char',\n",
    "    ngram_range=(1, 6),\n",
    "    max_features=30000)\n",
    "\n",
    "tfidf_char = char_vectorizer.fit_transform(df.Text)\n",
    "\n",
    "tfidf_char"
   ]
  },
  {
   "cell_type": "code",
   "execution_count": 187,
   "metadata": {},
   "outputs": [
    {
     "data": {
      "text/plain": [
       "(74373, 30000)"
      ]
     },
     "execution_count": 187,
     "metadata": {},
     "output_type": "execute_result"
    }
   ],
   "source": [
    "X_train, X_test, y_train, y_test = train_test_split(\n",
    "    tfidf_char, y, test_size=10000, random_state=420, stratify=y)\n",
    "\n",
    "X_train.shape"
   ]
  },
  {
   "cell_type": "code",
   "execution_count": 188,
   "metadata": {},
   "outputs": [
    {
     "name": "stdout",
     "output_type": "stream",
     "text": [
      "_________________________________________________________________\n",
      "Layer (type)                 Output Shape              Param #   \n",
      "=================================================================\n",
      "dense_9 (Dense)              (None, 1)                 30001     \n",
      "=================================================================\n",
      "Total params: 30,001\n",
      "Trainable params: 30,001\n",
      "Non-trainable params: 0\n",
      "_________________________________________________________________\n",
      "None\n"
     ]
    }
   ],
   "source": [
    "model = Sequential()\n",
    "model.add(Dense(1, input_shape=(X_train.shape[1],), activation=\"sigmoid\"))\n",
    "\n",
    "model.compile(optimizer='adam', loss='binary_crossentropy', metrics=['acc'])\n",
    "print(model.summary())"
   ]
  },
  {
   "cell_type": "code",
   "execution_count": 189,
   "metadata": {},
   "outputs": [
    {
     "name": "stdout",
     "output_type": "stream",
     "text": [
      "Epoch 1/10\n",
      "74373/74373 [==============================] - 22s 297us/step - loss: 0.5514 - acc: 0.7992\n",
      "Epoch 2/10\n",
      "74373/74373 [==============================] - 22s 298us/step - loss: 0.4370 - acc: 0.8295\n",
      "Epoch 3/10\n",
      "74373/74373 [==============================] - 22s 297us/step - loss: 0.3940 - acc: 0.8391\n",
      "Epoch 4/10\n",
      "74373/74373 [==============================] - 22s 292us/step - loss: 0.3697 - acc: 0.8456\n",
      "Epoch 5/10\n",
      "74373/74373 [==============================] - 22s 291us/step - loss: 0.3534 - acc: 0.8513\n",
      "Epoch 6/10\n",
      "74373/74373 [==============================] - 22s 293us/step - loss: 0.3414 - acc: 0.8555\n",
      "Epoch 7/10\n",
      "74373/74373 [==============================] - 22s 298us/step - loss: 0.3319 - acc: 0.8590\n",
      "Epoch 8/10\n",
      "74373/74373 [==============================] - 22s 298us/step - loss: 0.3242 - acc: 0.8625\n",
      "Epoch 9/10\n",
      "74373/74373 [==============================] - 22s 297us/step - loss: 0.3176 - acc: 0.8654\n",
      "Epoch 10/10\n",
      "74373/74373 [==============================] - 22s 290us/step - loss: 0.3119 - acc: 0.8677\n",
      "10000/10000 [==============================] - 3s 271us/step\n",
      "0.8437\n"
     ]
    }
   ],
   "source": [
    "model.fit(X_train, y_train, epochs=10, verbose=1)\n",
    "loss, accuracy = model.evaluate(X_test, y_test, verbose=1)\n",
    "print(accuracy)"
   ]
  },
  {
   "cell_type": "code",
   "execution_count": 227,
   "metadata": {},
   "outputs": [],
   "source": [
    "import g2p_en as g2p\n",
    "from transliterate import translit\n",
    "import re\n",
    "\n",
    "tdict_path = r\"C:\\Users\\khasanov\\Desktop\\transcript_dict.txt\"\n",
    "dict_file = open(tdict_path, mode='r', encoding='utf-8')\n",
    "lines = dict_file.readlines()\n",
    "transcript_dict = {}\n",
    "for line in lines:\n",
    "    line = line.strip()\n",
    "    if len(line.split(\":\")) != 2:\n",
    "        continue\n",
    "    k, v = line.split(\":\")\n",
    "    transcript_dict[r\"\\b\"+k+r\"\\b\"] = v\n",
    "del lines\n",
    "dict_file.close()\n",
    "\n",
    "\n",
    "def transcript(word):\n",
    "    assert isinstance(word, (str, int))\n",
    "    word = str(word)\n",
    "    phoneme_dict = {\n",
    "        \"OW0\": \"О\",  # whats this\n",
    "        \"OW1\": \"О\",\n",
    "        \"OW2\": \"О\",\n",
    "        \"AA0\": \"А\",\n",
    "        \"AA1\": \"А\",\n",
    "        \"AA2\": \"А\",\n",
    "        \"AE0\": \"А\",\n",
    "        \"AE1\": \"А\",\n",
    "        \"AE2\": \"А\",\n",
    "        \"AH0\": \"А\",\n",
    "        \"AH1\": \"А\",\n",
    "        \"AH2\": \"А\",\n",
    "        \"AO0\": \"О\",\n",
    "        \"AO1\": \"А\",\n",
    "        \"AO2\": \"А\",\n",
    "        \"AW0\": \"АУ\",\n",
    "        \"AW1\": \"АУ\",\n",
    "        \"AW2\": \"АУ\",\n",
    "        \"AY0\": \"АЙ\",\n",
    "        \"AY1\": \"АЙ\",\n",
    "        \"AY2\": \"АЙ\",\n",
    "        \"B\": \"Б\",\n",
    "        \"CH\": \"Ч\",\n",
    "        \"D\": \"Д\",\n",
    "        \"DH\": \"С\",\n",
    "        \"EH0\": \"Э\",\n",
    "        \"EH1\": \"E\",\n",
    "        \"EH2\": \"Е\",\n",
    "        \"ER0\": \"ЕР\",\n",
    "        \"ER1\": \"ЕР\",\n",
    "        \"ER2\": \"ЕР\",\n",
    "        \"EY0\": \"ЕЙ\",  # конец слова - Е\n",
    "        \"EY1\": \"ЕЙ\",  # конец слова - Е\n",
    "        \"EY2\": \"ЕЙ\",  # конец слова - Е\n",
    "        \"F\": \"Ф\",\n",
    "        \"G\": \"Г\",\n",
    "        \"HH\": \"Х\",\n",
    "        \"IH0\": \"И\",\n",
    "        \"IH1\": \"И\",\n",
    "        \"IH2\": \"И\",\n",
    "        \"IY0\": \"И\",\n",
    "        \"IY1\": \"И\",\n",
    "        \"IY2\": \"И\",\n",
    "        \"JH\": \"ДЖ\",\n",
    "        \"K\": \"К\",\n",
    "        \"L\": \"Л\",\n",
    "        \"M\": \"М\",\n",
    "        \"N\": \"Н\",\n",
    "        \"NG\": \"Н\",  # в конце - НГ, NGS - НГС\n",
    "        \"OY0\": \"ОЙ\",\n",
    "        \"OY1\": \"ОЙ\",\n",
    "        \"OY2\": \"ОЙ\",\n",
    "        \"P\": \"П\",\n",
    "        \"R\": \"Р\",\n",
    "        \"S\": \"С\",\n",
    "        \"SH\": \"Ш\",\n",
    "        \"T\": \"Т\",\n",
    "        \"TH\": \"С\",\n",
    "        \"UH0\": \"У\",\n",
    "        \"UH1\": \"У\",\n",
    "        \"UH2\": \"У\",\n",
    "        \"UW\": \"У\",\n",
    "        \"UW0\": \"У\",\n",
    "        \"UW1\": \"Ю\",\n",
    "        \"UW2\": \"Ю\",\n",
    "        \"V\": \"В\",\n",
    "        \"W\": \"В\",\n",
    "        \"Y\": \"Ь\",  # В основном идет перед UW*. Меняет его на Ю\n",
    "        \"Z\": \"З\",\n",
    "        \"ZH\": \"Ж\"\n",
    "    }\n",
    "\n",
    "    word = re.sub(r\"\\d\", \"\", word)  # :TODO add digits support\n",
    "    phonemes = g2p.g2p(word)  # list of phonemes\n",
    "\n",
    "    if phonemes[-1] == \"NG\":\n",
    "        phonemes[-1] = \"N\"\n",
    "        phonemes.append(\"G\")\n",
    "    if phonemes[-2:] == [\"NG\", \"Z\"] or phonemes[-2:] == [\"NG\", \"S\"]:\n",
    "        phonemes[-2], phonemes[-1] = \"N\", \"G\"\n",
    "        phonemes.append(\"S\")\n",
    "\n",
    "    if \"EY\" in phonemes[-1]:\n",
    "        phonemes[-1] = \"EH1\"\n",
    "    if phonemes[-1] == \"Z\":\n",
    "        phonemes[-1] = \"S\"\n",
    "\n",
    "    transcripted_phonemes = [phoneme_dict[x] if x in phoneme_dict else \" \" for x in phonemes]\n",
    "\n",
    "    if phonemes[0] == \"Y\":\n",
    "        transcripted_phonemes[0] = \"Й\"\n",
    "\n",
    "    return \"\".join(transcripted_phonemes).strip().lower()\n",
    "\n",
    "\n",
    "def handle_latin(x):\n",
    "    word = x.group(0)\n",
    "    word = word.strip()\n",
    "    if re.search(r\"[a-z]\", word):\n",
    "        if re.search(r\"[а-я]\", word) or len(word) <= 3:\n",
    "            return translit(word, \"ru\")\n",
    "        else:\n",
    "            return transcript(word)\n",
    "    return word\n",
    "\n",
    "\n",
    "def text_sub(text_cell):\n",
    "    try:\n",
    "        return re.sub(r\"\\b([a-zа-я])*\\b\", handle_latin, text_cell)\n",
    "    except:\n",
    "        return translit(text_cell, \"ru\")"
   ]
  },
  {
   "cell_type": "code",
   "execution_count": null,
   "metadata": {},
   "outputs": [],
   "source": [
    "test_df = pd.read_excel(r\"T:\\=Tiburon_NEW\\!!!Проекты\\Yandex\\13262 Трекинг Яндекс Деньги\\DP\\opens\\w3\\A1 A3.xlsm\", sheet_name=\"Data\")\n",
    "test_df = test_df.iloc[:,2:4]\n",
    "test_df.columns = [\"Text\", \"Code\"]\n",
    "\n",
    "os.environ['TF_CPP_MIN_LOG_LEVEL'] = '2'\n",
    "\n",
    "def process_df(df):\n",
    "    df = df[~pd.isnull(df.Text)]\n",
    "    df.Text = df.Text.astype(str)\n",
    "    df.Text = df.Text.replace(r'[^\\w\\d\\.\\,\\?\\! ]', ' ', regex=True)\n",
    "    df.Text = df.Text.replace(\"\\s\\s+\", \" \")\n",
    "    df.Text = df.Text.replace(\"ё\", \"е\")\n",
    "    df.Text = df.Text.replace(transcript_dict)\n",
    "    df.Text = df.Text.str.strip().str.lower()\n",
    "    \n",
    "    return df\n",
    "\n",
    "test_df = process_df(test_df).drop_duplicates(\"Text\")\n",
    "test_df.Text = test_df.Text.apply(text_sub)\n",
    "test_df = process_df(test_df).drop_duplicates(\"Text\")\n",
    "test_df.head()"
   ]
  },
  {
   "cell_type": "code",
   "execution_count": 233,
   "metadata": {},
   "outputs": [
    {
     "data": {
      "text/plain": [
       "(1269, 2)"
      ]
     },
     "execution_count": 233,
     "metadata": {},
     "output_type": "execute_result"
    }
   ],
   "source": [
    "test_df = test_df[test_df.Text.str.contains(\"\\w\")]\n",
    "test_df.shape"
   ]
  },
  {
   "cell_type": "code",
   "execution_count": 234,
   "metadata": {},
   "outputs": [],
   "source": [
    "def text2predict(model, text, char_vectorizer):\n",
    "    text2vec = char_vectorizer.transform(text)\n",
    "    return model.predict(text2vec)"
   ]
  },
  {
   "cell_type": "code",
   "execution_count": 244,
   "metadata": {},
   "outputs": [
    {
     "data": {
      "text/plain": [
       "array([[0.38886216]], dtype=float32)"
      ]
     },
     "execution_count": 244,
     "metadata": {},
     "output_type": "execute_result"
    }
   ],
   "source": [
    "text2predict(model, [\"прон\"], char_vectorizer)"
   ]
  },
  {
   "cell_type": "code",
   "execution_count": null,
   "metadata": {},
   "outputs": [],
   "source": [
    "test_df[\"Predicted\"] = text2predict(model, test_df.Text, char_vectorizer)"
   ]
  },
  {
   "cell_type": "code",
   "execution_count": null,
   "metadata": {},
   "outputs": [],
   "source": [
    "def check_match(i):\n",
    "    code = 1 if test_df.loc[i, \"Code\"] == 99 else 0\n",
    "    predict = 1 if test_df.loc[i, \"Predicted\"] >= 0.5 else 0\n",
    "    return code == predict\n",
    "\n",
    "test_df[\"Match\"] = test_df.index.map(check_match)"
   ]
  },
  {
   "cell_type": "code",
   "execution_count": 243,
   "metadata": {},
   "outputs": [
    {
     "data": {
      "text/plain": [
       "0.8786446020488574"
      ]
     },
     "execution_count": 243,
     "metadata": {},
     "output_type": "execute_result"
    }
   ],
   "source": [
    "test_df.Match.sum()/test_df.shape[0]"
   ]
  }
 ],
 "metadata": {
  "kernelspec": {
   "display_name": "Python 3",
   "language": "python",
   "name": "python3"
  },
  "language_info": {
   "codemirror_mode": {
    "name": "ipython",
    "version": 3
   },
   "file_extension": ".py",
   "mimetype": "text/x-python",
   "name": "python",
   "nbconvert_exporter": "python",
   "pygments_lexer": "ipython3",
   "version": "3.6.5"
  }
 },
 "nbformat": 4,
 "nbformat_minor": 2
}
